{
 "cells": [
  {
   "cell_type": "code",
   "execution_count": 5,
   "metadata": {},
   "outputs": [],
   "source": [
    "import numpy as np\n",
    "import scipy.signal as signal\n",
    "import matplotlib.pyplot as plt\n",
    "from PIL import Image\n",
    "%matplotlib inline"
   ]
  },
  {
   "cell_type": "code",
   "execution_count": 6,
   "metadata": {},
   "outputs": [],
   "source": [
    "# Converting image into black white\n",
    "cat_bw = np.array(Image.open('cat_text.jpg').convert('1'))\n",
    "hello_bw = np.array(Image.open('hello_text.jpg').convert('1'))"
   ]
  },
  {
   "cell_type": "code",
   "execution_count": 45,
   "metadata": {},
   "outputs": [],
   "source": [
    "resized_cat = np.array(Image.open('cat_text.jpg').resize((100,30)).convert('1'))\n",
    "resized_hello = np.array(Image.open('hello_text.jpg').resize((130,30)).convert('1'))"
   ]
  },
  {
   "cell_type": "code",
   "execution_count": 8,
   "metadata": {},
   "outputs": [],
   "source": [
    "def convolution_1d(data: list, kernel: list) -> list:\n",
    "    \"\"\" 1D convolution\n",
    "    Input:\n",
    "        - data: input data\n",
    "        - kernel: input kernel\n",
    "    Returns:\n",
    "        - Convolved output of data and kernel\n",
    "    \"\"\"\n",
    "    flipped_kernel = [kernel[x] for x in reversed(range(len(kernel)))]\n",
    "    convolved_data = np.zeros(len(data))\n",
    "    for i in range(len(data)):\n",
    "        for j in range(len(flipped_kernel)):\n",
    "            if j == 0 and i - 1 >= 0:\n",
    "                convolved_data[i] += data[i - 1] * flipped_kernel[j]\n",
    "            elif j == len(flipped_kernel) and i + 1 < len(data):\n",
    "                convolved_data[i] += data[i + 1] * flipped_kernel[j]\n",
    "            else:\n",
    "                convolved_data[i] += data[i] * flipped_kernel[j]\n",
    "    return convolved_data"
   ]
  },
  {
   "cell_type": "code",
   "execution_count": 9,
   "metadata": {},
   "outputs": [],
   "source": [
    "def edge_detection(data: list, display: bool = False) -> list:\n",
    "    \"\"\" Filters the input, so edges are visible\n",
    "    Input:\n",
    "        - data: input image\n",
    "        - display: show the result filtered image\n",
    "    Return: \n",
    "        - Filtered image array\n",
    "    \"\"\"\n",
    "    h = np.array([1, 0, -1])\n",
    "    rows, cols = data.shape\n",
    "    y_rows = np.zeros(data.shape)\n",
    "    for i in range(rows):\n",
    "        # y_rows[i,:] = signal.convolve(data[i,:], h, 'same')\n",
    "        y_rows[i,:] = convolution_1d(data=data[i,:], kernel=h)\n",
    "\n",
    "    y_cols = np.zeros(data.shape)\n",
    "    for i in range(cols):\n",
    "        # y_cols[:, i] = signal.convolve(data[:, i], h, 'same')\n",
    "        y_cols[:, i] = convolution_1d(data=data[:, i], kernel=h)\n",
    "\n",
    "    y_IF = np.sqrt(y_rows**2 + y_cols**2)\n",
    "    if (display):\n",
    "        plt.figure(figsize=(10,6))\n",
    "        plt.imshow(y_IF, 'gray')\n",
    "        plt.title('Gradient')\n",
    "        plt.show()\n",
    "    return y_IF"
   ]
  },
  {
   "cell_type": "code",
   "execution_count": 10,
   "metadata": {},
   "outputs": [],
   "source": [
    "def char_col_finder(data: list) -> list[tuple]:\n",
    "    \"\"\" Find column indices of character(s)\n",
    "    Input:\n",
    "        - data: input image\n",
    "    Return:\n",
    "        - List of column pair indices that contains a character\n",
    "    \"\"\"\n",
    "    col = []\n",
    "    found = False\n",
    "    pair = []\n",
    "    for c in range(data.shape[1]):\n",
    "        if c + 1 <= data.shape[1]:\n",
    "            found = False\n",
    "            # Find White 1.0 <\n",
    "            for p in data[:, c:c+1]:\n",
    "                if p >= 1.0:\n",
    "                    found = True\n",
    "                    break\n",
    "            if len(pair) == 0 and found and c != 0:\n",
    "                pair.append(c)\n",
    "            elif len(pair) == 1 and not found:\n",
    "                pair.append(c)\n",
    "                col.append(pair)\n",
    "                pair = []\n",
    "    return col"
   ]
  },
  {
   "cell_type": "code",
   "execution_count": 11,
   "metadata": {},
   "outputs": [],
   "source": [
    "def char_row_finder(data: list) -> []:\n",
    "    \"\"\" Find the min and max row indices that exists a white pixel\n",
    "    Input:\n",
    "        - data: input image\n",
    "    Return:\n",
    "        - top and bottom indices\n",
    "    \"\"\"\n",
    "    top = data.shape[0]\n",
    "    bottom = 0\n",
    "\n",
    "    for r in range(data.shape[0]):\n",
    "        if r + 1 <= data.shape[0]:\n",
    "            for p in data[r:r+1, 5:data.shape[1]-5][0]:\n",
    "                if p >= 1.0:\n",
    "                    if r < top:\n",
    "                        top = r if r != 0 else top\n",
    "                    if r > bottom:\n",
    "                        bottom = r if r != data.shape[0]-1 else bottom\n",
    "                    break\n",
    "    return [top, bottom]\n",
    "\n",
    "        "
   ]
  },
  {
   "cell_type": "code",
   "execution_count": 12,
   "metadata": {},
   "outputs": [],
   "source": [
    "def show_cropped_char(crop_array: list):\n",
    "    \"\"\" Display the cropped characters\n",
    "    Input:\n",
    "        - crop_array: list of cropped image\n",
    "    \"\"\"\n",
    "    for i in range(len(crop_array)):\n",
    "        plt.subplot(1, len(crop_array), i + 1)\n",
    "        plt.imshow(crop_array[i])\n",
    "    plt.show()"
   ]
  },
  {
   "cell_type": "code",
   "execution_count": 43,
   "metadata": {},
   "outputs": [],
   "source": [
    "def pad_cropped(data: list) -> []:\n",
    "    \"\"\" Pad zeros to cropped data\n",
    "    Input:\n",
    "        - data: cropped image\n",
    "    Return:\n",
    "        - Cropped data with zeros padded, so shape is (28, 28)\n",
    "    \"\"\"\n",
    "    if data.shape < (28, 28):\n",
    "        print(data.shape)\n",
    "        top = (28 - data.shape[0]) // 2\n",
    "        bottom = 28 - top - data.shape[0]\n",
    "        left = (28 - data.shape[1]) // 2\n",
    "        right = 28 - left - data.shape[1]\n",
    "        new_array = np.pad(data, ((top, bottom),(left, right)), 'constant')\n",
    "        return new_array\n",
    "    else:\n",
    "        print(\"Unable to pad, cropped image too large for model\")\n",
    "        return []"
   ]
  },
  {
   "cell_type": "code",
   "execution_count": 40,
   "metadata": {},
   "outputs": [],
   "source": [
    "def text_segmentation(data: list, display: bool = False) -> []:\n",
    "    \"\"\" Segments an image with characters into individual characters\n",
    "    Input:\n",
    "        - data: input image\n",
    "    Return:\n",
    "        - List of cropped characters from input\n",
    "    \"\"\"\n",
    "    edge_array = edge_detection(data=data, display=display)\n",
    "    # crop top and bottom, since those will be edges too\n",
    "    top, bottom = char_row_finder(edge_array)\n",
    "    cropped_array = edge_array[top:bottom, :]\n",
    "\n",
    "    # find the column indices pairs of each found character\n",
    "    cutoff_col_idx = char_col_finder(cropped_array)\n",
    "\n",
    "    characters = []\n",
    "    display_char = []\n",
    "    \n",
    "    for (c0, c1) in cutoff_col_idx:\n",
    "        new_array = pad_cropped(cropped_array[:, c0:c1])\n",
    "        if len(new_array) > 0:\n",
    "            display_char.append(new_array)\n",
    "            characters.append(new_array.flatten())\n",
    "\n",
    "    if display:\n",
    "        show_cropped_char(display_char)\n",
    "\n",
    "    return characters"
   ]
  },
  {
   "cell_type": "code",
   "execution_count": 41,
   "metadata": {},
   "outputs": [
    {
     "data": {
      "image/png": "[encoded data removed]",
      "text/plain": [
       "<Figure size 1000x600 with 1 Axes>"
      ]
     },
     "metadata": {},
     "output_type": "display_data"
    },
    {
     "data": {
      "image/png": "[encoded data removed]",
      "text/plain": [
       "<Figure size 640x480 with 3 Axes>"
      ]
     },
     "metadata": {},
     "output_type": "display_data"
    }
   ],
   "source": [
    "cat_cropped_data = text_segmentation(data=resized_cat, display=True)"
   ]
  },
  {
   "cell_type": "code",
   "execution_count": 46,
   "metadata": {},
   "outputs": [
    {
     "data": {
      "image/png": "[encoded data removed]",
      "text/plain": [
       "<Figure size 1000x600 with 1 Axes>"
      ]
     },
     "metadata": {},
     "output_type": "display_data"
    },
    {
     "name": "stdout",
     "output_type": "stream",
     "text": [
      "(24, 24)\n",
      "(24, 23)\n",
      "(24, 19)\n",
      "(24, 19)\n",
      "(24, 28)\n"
     ]
    },
    {
     "data": {
      "image/png": "[encoded data removed]",
      "text/plain": [
       "<Figure size 640x480 with 5 Axes>"
      ]
     },
     "metadata": {},
     "output_type": "display_data"
    }
   ],
   "source": [
    "hello_cropped_data = text_segmentation(data=resized_hello, display=True)"
   ]
  },
  {
   "cell_type": "code",
   "execution_count": 36,
   "metadata": {},
   "outputs": [],
   "source": [
    "def prediction_string(prediction: list) -> str:\n",
    "    \"\"\" Convert predicted value into the string mapping\n",
    "    Input:\n",
    "        - prediction: array of the predicted value in EMNIST mapping (1 = A, 2 = B, ...)\n",
    "    Return:\n",
    "        - EMNIST mapping to string\n",
    "    \"\"\"\n",
    "    pred_str = \"\"\n",
    "    for p in prediction:\n",
    "        pred_str += chr(64 + p)\n",
    "\n",
    "    return pred_str\n"
   ]
  }
 ],
 "metadata": {
  "kernelspec": {
   "display_name": "ece420",
   "language": "python",
   "name": "python3"
  },
  "language_info": {
   "codemirror_mode": {
    "name": "ipython",
    "version": 3
   },
   "file_extension": ".py",
   "mimetype": "text/x-python",
   "name": "python",
   "nbconvert_exporter": "python",
   "pygments_lexer": "ipython3",
   "version": "3.11.4"
  }
 },
 "nbformat": 4,
 "nbformat_minor": 2
}
