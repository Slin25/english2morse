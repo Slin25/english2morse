{
 "cells": [
  {
   "cell_type": "code",
   "execution_count": null,
   "id": "49459ebd",
   "metadata": {},
   "outputs": [],
   "source": [
    "# https://urldefense.com/v3/__https://www.youtube.com/watch?v=WdXapAG6TYo*5Cn__;JQ!!DZ3fjg!8OMKV1Wm3pVuTREk9xpdoo7SXBBeE-7_ZXhaPifVHOMD5zrj5GL6zOoE2aV1dBvoyMd-L1By2-JmcmF68kI__-sJrg$ \n",
    "# https://urldefense.com/v3/__https://www.pycodemates.com/2022/10/implementing-SVM-from-scratch-in-python.html__;!!DZ3fjg!8OMKV1Wm3pVuTREk9xpdoo7SXBBeE-7_ZXhaPifVHOMD5zrj5GL6zOoE2aV1dBvoyMd-L1By2-JmcmF68kJqn0d5Bg$ "
   ]
  },
  {
   "cell_type": "code",
   "execution_count": 2,
   "id": "db383269",
   "metadata": {
    "scrolled": true
   },
   "outputs": [
    {
     "name": "stderr",
     "output_type": "stream",
     "text": [
      "Downloading emnist.zip: 536MB [00:24, 23.2MB/s]                    \n"
     ]
    },
    {
     "data": {
      "text/plain": [
       "['balanced', 'byclass', 'bymerge', 'digits', 'letters', 'mnist']"
      ]
     },
     "execution_count": 2,
     "metadata": {},
     "output_type": "execute_result"
    }
   ],
   "source": [
    "# do pip install emnist to install the emnist dataset. \n",
    "from emnist import list_datasets\n",
    "list_datasets()"
   ]
  },
  {
   "cell_type": "code",
   "execution_count": 3,
   "id": "7a77710a",
   "metadata": {},
   "outputs": [
    {
     "name": "stdout",
     "output_type": "stream",
     "text": [
      "(124800, 784) (20800, 784)\n",
      "(124800,) (20800,)\n"
     ]
    }
   ],
   "source": [
    "from emnist import extract_training_samples, extract_test_samples\n",
    "import numpy as np\n",
    "import os\n",
    "import matplotlib.pyplot as plt\n",
    "images,train_labels = extract_training_samples('letters')\n",
    "images2,test_labels = extract_test_samples('letters')\n",
    "train_data = images.reshape(124800, -1)\n",
    "test_data = images2.reshape(20800, -1)\n",
    "print(train_data.shape, test_data.shape)\n",
    "print(train_labels.shape, test_labels.shape)"
   ]
  },
  {
   "cell_type": "code",
   "execution_count": 18,
   "id": "0d4dc742",
   "metadata": {},
   "outputs": [],
   "source": [
    "import numpy as np\n",
    "\n",
    "class MultiClassSVM:\n",
    "    def __init__(self, alpha=0.005, num_iter=3000, reg=0.01, num_classes=26):\n",
    "        self.alpha = alpha  # LEARNING RATE\n",
    "        self.num_iter = num_iter\n",
    "        self.C = 1.0\n",
    "        self.num_classes = num_classes\n",
    "        self.losses = [[] for _ in range(self.num_classes)]\n",
    "\n",
    "\n",
    "    def fit(self, X, Y):\n",
    "        self.weights = np.zeros((self.num_classes, X.shape[1]))\n",
    "        self.bias = np.zeros(self.num_classes)\n",
    "\n",
    "        for class_label in range(self.num_classes):\n",
    "            # Create binary labels for the current class\n",
    "            binary_labels = np.where(Y == class_label, 1, -1) \n",
    "            self.train_binary_svm(X, binary_labels, class_label)\n",
    "\n",
    "    def train_binary_svm(self, X, Y, class_label):\n",
    "\n",
    "        w = np.zeros(X.shape[1])  # Weight vector\n",
    "        b = 0  # Bias term\n",
    "\n",
    "        num_samples = X.shape[0]\n",
    "\n",
    "        # Training parameters\n",
    "        alpha = self.alpha\n",
    "        num_iter = self.num_iter\n",
    "\n",
    "        for _ in range(num_iter):\n",
    "\n",
    "            # Calculate the hinge loss and gradients\n",
    "            margins = 1 - Y * (np.dot(X, w) + b)\n",
    "            loss = self.C * np.maximum(0, margins).mean() + 0.5 * np.sum(w * w)  \n",
    "            # Store the loss \n",
    "            self.losses[class_label].append(loss)\n",
    "            # Calculating gradients\n",
    "            dw = np.zeros(X.shape[1])\n",
    "            db = 0\n",
    "\n",
    "            # Update gradients using loss function  C * max(0, 1-(Y*(wx+b)))\n",
    "            for i in range(num_samples):\n",
    "                ti = Y[i] * (np.dot(w, X[i]) + b)\n",
    "                if ti <= 1: #i.e. hinge loss = C*(1-(Y*(wx+b)))\n",
    "                    dw -= self.C * Y[i] * X[i]\n",
    "                    db -= self.C * Y[i]\n",
    " \n",
    "            # Update weights and bias using gradients\n",
    "            w -= alpha * dw\n",
    "            b -= alpha * db\n",
    "\n",
    "        # Store the learned weights and bias for this binary classifier\n",
    "        self.weights[class_label] = w\n",
    "        self.bias[class_label] = b\n",
    "\n",
    "\n",
    "    def predict(self, X):\n",
    "        scores = np.dot(X, self.weights.T) + self.bias\n",
    "        return np.argmax(scores, axis=1)\n"
   ]
  },
  {
   "cell_type": "code",
   "execution_count": 5,
   "id": "81bb6416",
   "metadata": {},
   "outputs": [
    {
     "data": {
      "text/plain": [
       "Text(0.5, 1.0, 'Label: 1')"
      ]
     },
     "execution_count": 5,
     "metadata": {},
     "output_type": "execute_result"
    },
    {
     "data": {
      "image/png": "[encoded data removed]",
      "text/plain": [
       "<Figure size 640x480 with 1 Axes>"
      ]
     },
     "metadata": {},
     "output_type": "display_data"
    },
    {
     "data": {
      "image/png": "[encoded data removed]",
      "text/plain": [
       "<Figure size 640x480 with 1 Axes>"
      ]
     },
     "metadata": {},
     "output_type": "display_data"
    }
   ],
   "source": [
    "plt.figure()\n",
    "plt.imshow(images[0], cmap='gray')\n",
    "plt.title(f\"Label: {train_labels[0]}\")\n",
    "plt.figure()\n",
    "plt.imshow(images2[0], cmap='gray')\n",
    "plt.title(f\"Label: {test_labels[0]}\")"
   ]
  },
  {
   "cell_type": "code",
   "execution_count": 19,
   "id": "370abef3",
   "metadata": {},
   "outputs": [],
   "source": [
    "# train model\n",
    "\n",
    "classifier = MultiClassSVM(alpha=0.01, num_iter=5000, reg=0.01, num_classes = 26)\n",
    "classifier.fit(train_data, train_labels)\n",
    "predictions = classifier.predict(test_data)"
   ]
  },
  {
   "cell_type": "code",
   "execution_count": 9,
   "id": "c9151d4e",
   "metadata": {},
   "outputs": [
    {
     "data": {
      "text/plain": [
       "['svm_model_0.1.pkl']"
      ]
     },
     "execution_count": 9,
     "metadata": {},
     "output_type": "execute_result"
    }
   ],
   "source": [
    "# pip install joblib to install this package \n",
    "#save this trained model \n",
    "import joblib\n",
    "model_filename = \"svm_model_0.1.pkl\"\n",
    "joblib.dump(classifier, model_filename)"
   ]
  },
  {
   "cell_type": "code",
   "execution_count": 10,
   "id": "f9963a34",
   "metadata": {},
   "outputs": [],
   "source": [
    "#load this trained model later\n",
    "classifier = joblib.load(model_filename)\n",
    "predictions = classifier.predict(test_data)"
   ]
  },
  {
   "cell_type": "code",
   "execution_count": 11,
   "id": "7429bb03",
   "metadata": {},
   "outputs": [
    {
     "name": "stdout",
     "output_type": "stream",
     "text": [
      "Accuracy: 47.26%\n"
     ]
    }
   ],
   "source": [
    "# Calculate the accuracy\n",
    "from sklearn.metrics import confusion_matrix, accuracy_score\n",
    "#if accuracy doesnt increase, try increasing the value of self.C to 10 or 0.1 \n",
    "accuracy = accuracy_score(test_labels, predictions)\n",
    "print(f'Accuracy: {accuracy * 100:.2f}%')\n"
   ]
  },
  {
   "cell_type": "code",
   "execution_count": 26,
   "id": "7a2c94a7",
   "metadata": {
    "scrolled": true
   },
   "outputs": [
    {
     "name": "stdout",
     "output_type": "stream",
     "text": [
      "Confusion Matrix:\n",
      "[[595   4   7   8   0  11   0  40   0  17   0   0   1  88   0  13   0   0\n",
      "    5   0   0   2   1   4   4   0]\n",
      " [ 14 632   1  15   0   8   0  51   0  27   0   0   2  18   1   2   0   0\n",
      "   17   0   0   1   2   2   7   0]\n",
      " [ 45  13 652   5   0   5   0   1   3  13   0   0   1  19   2  16   0   0\n",
      "   13   0   0   7   3   0   2   0]\n",
      " [ 49 111   4 366   0   2   0  54   0  76   0   0   3  59   5  29   0   0\n",
      "   14   0   0  22   1   1   4   0]\n",
      " [186  67 307   1   0  37   0  12   0   8   0   0   6  27   0  38   0   0\n",
      "   73   1   0  18   0   2  17   0]\n",
      " [ 14  11   2   1   0 639   0   1   0   6   0   0   3   7   0  81   0   0\n",
      "    9   3   0   5   0   2  16   0]\n",
      " [193  60  44   4   0  79   5  22   0 109   0   0   4  27   0  33   0   0\n",
      "  146   0   0   3   9   0  62   0]\n",
      " [ 45  17   4   6   0  12   0 549   0   9   0   0   9 102   0   5   0   0\n",
      "    3   0   0  10   7  14   8   0]\n",
      " [ 48  22   2   2   0 102   0  12 211 167   0   0   0   0   1   9   0   0\n",
      "   52   0   0  35   0  54  83   0]\n",
      " [ 16  35   2  25   0  15   0   9   1 618   0   0   0   7   1   4   1   0\n",
      "   25   0   0   6   0   9  26   0]\n",
      " [ 90  82  32   7   0  32   0 214   0   2   0   0   4  97   0   4   0   0\n",
      "    8   2   0  87  13  84  42   0]\n",
      " [ 26 104  44  13   0 104   0  36  63 139   0   2   0   7   0   9   0   0\n",
      "   37   0   1  58   9  36 112   0]\n",
      " [ 50   1   0   0   0   2   0   7   0   0   0   0 605 111   0   8   0   0\n",
      "    0   1   1   5   3   0   6   0]\n",
      " [ 66   5   0   4   0   4   0  30   0   1   0   0  14 603   1   7   0   0\n",
      "    1   0   0  42  14   2   6   0]\n",
      " [113  14  47  32   0   0   0   2   0  56   0   0   1 216 256  24   0   0\n",
      "   36   0   0   2   1   0   0   0]\n",
      " [  4   0   0   3   0  20   0   1   0   3   0   0   0  13   0 731   0   0\n",
      "    0   0   0   2   0   1  22   0]\n",
      " [228  20  25  13   0 110   0  19   0  76   0   0   2  20   0  63  11   0\n",
      "  116  11   0   2  15   3  66   0]\n",
      " [ 96  14  36   3   0 123   0  29   0   2   0   0  12 217   0  94   1   0\n",
      "    3   3   0  79   3  10  75   0]\n",
      " [ 22  14   2   1   0   7   0   0   0  51   0   0   0   6   2   1   0   0\n",
      "  683   0   0   3   2   4   2   0]\n",
      " [ 40  52   7   3   0 172   0  38   0  48   0   0  16  39   3  73   0   0\n",
      "   35  85   0  13   0  11 165   0]\n",
      " [220  22   5  22   0   0   0  43   0  53   0   0   1 127   3   4   0   0\n",
      "    1   0  14 209  70   1   5   0]\n",
      " [  5   6   0   1   0   7   0   7   1   0   0   0   2  40   0  10   0   0\n",
      "    0   0   0 682  11   1  27   0]\n",
      " [ 37  14   0   9   0   2   0  19   0   1   0   0  12  73   0   1   0   0\n",
      "    0   1   0  24 604   2   1   0]\n",
      " [ 71   8   0   3   0  11   0  28   0   2   0   0   1  14   0  10   0   0\n",
      "    9   1   0  65   1 494  82   0]\n",
      " [  7   4   2   1   0  12   0   7   0  32   0   0   1  17   0  21   0   0\n",
      "    4   3   0  77   1  12 599   0]\n",
      " [ 71  97   7  43   0   6   0  22   0 327   0   0   4  83   0   8   0   0\n",
      "   32   2   0   3   0  86   9   0]]\n"
     ]
    }
   ],
   "source": [
    "num_classes=26\n",
    "# Generate the confusion matrix\n",
    "confusion = confusion_matrix(test_labels, predictions)\n",
    "print('Confusion Matrix:')\n",
    "print(confusion)"
   ]
  },
  {
   "cell_type": "code",
   "execution_count": null,
   "id": "4603f89f",
   "metadata": {},
   "outputs": [],
   "source": []
  }
 ],
 "metadata": {
  "kernelspec": {
   "display_name": "Python 3 (ipykernel)",
   "language": "python",
   "name": "python3"
  },
  "language_info": {
   "codemirror_mode": {
    "name": "ipython",
    "version": 3
   },
   "file_extension": ".py",
   "mimetype": "text/x-python",
   "name": "python",
   "nbconvert_exporter": "python",
   "pygments_lexer": "ipython3",
   "version": "3.11.4"
  }
 },
 "nbformat": 4,
 "nbformat_minor": 5
}
